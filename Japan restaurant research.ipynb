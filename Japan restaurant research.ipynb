{
 "cells": [
  {
   "cell_type": "markdown",
   "metadata": {},
   "source": [
    "# Japan restaraunt research"
   ]
  },
  {
   "cell_type": "markdown",
   "metadata": {},
   "source": [
    "Main task related to this dataset is to predic number of visitors in Japan restaraunts. So target is in visitors column and other columns are initial features."
   ]
  },
  {
   "cell_type": "code",
   "execution_count": 107,
   "metadata": {},
   "outputs": [],
   "source": [
    "import pandas as pd\n",
    "import numpy as np\n",
    "import matplotlib.pyplot as plt\n",
    "import seaborn as sns\n",
    "import multiprocessing\n",
    "from sklearn.linear_model import LinearRegression, Lasso\n",
    "from sklearn.ensemble import RandomForestRegressor\n",
    "from sklearn.preprocessing import PolynomialFeatures"
   ]
  },
  {
   "cell_type": "code",
   "execution_count": 108,
   "metadata": {},
   "outputs": [],
   "source": [
    "df_train = pd.read_csv('data/train.csv')\n",
    "cores = multiprocessing.cpu_count() - 1"
   ]
  },
  {
   "cell_type": "code",
   "execution_count": 109,
   "metadata": {},
   "outputs": [
    {
     "data": {
      "text/html": [
       "<div>\n",
       "<style scoped>\n",
       "    .dataframe tbody tr th:only-of-type {\n",
       "        vertical-align: middle;\n",
       "    }\n",
       "\n",
       "    .dataframe tbody tr th {\n",
       "        vertical-align: top;\n",
       "    }\n",
       "\n",
       "    .dataframe thead th {\n",
       "        text-align: right;\n",
       "    }\n",
       "</style>\n",
       "<table border=\"1\" class=\"dataframe\">\n",
       "  <thead>\n",
       "    <tr style=\"text-align: right;\">\n",
       "      <th></th>\n",
       "      <th>air_store_id</th>\n",
       "      <th>visit_date</th>\n",
       "      <th>visitors</th>\n",
       "      <th>dow</th>\n",
       "      <th>min_visitors</th>\n",
       "      <th>mean_visitors</th>\n",
       "      <th>median_visitors</th>\n",
       "      <th>max_visitors</th>\n",
       "      <th>count_observations</th>\n",
       "      <th>air_genre_name</th>\n",
       "      <th>air_area_name</th>\n",
       "      <th>latitude</th>\n",
       "      <th>longitude</th>\n",
       "      <th>hpg_store_id</th>\n",
       "    </tr>\n",
       "  </thead>\n",
       "  <tbody>\n",
       "    <tr>\n",
       "      <th>0</th>\n",
       "      <td>air_00a91d42b08b08d9</td>\n",
       "      <td>2016-07-01</td>\n",
       "      <td>35</td>\n",
       "      <td>4</td>\n",
       "      <td>17.0</td>\n",
       "      <td>36.500000</td>\n",
       "      <td>35.5</td>\n",
       "      <td>57.0</td>\n",
       "      <td>40.0</td>\n",
       "      <td>Italian/French</td>\n",
       "      <td>Tōkyō-to Chiyoda-ku Kudanminami</td>\n",
       "      <td>35.694003</td>\n",
       "      <td>139.753595</td>\n",
       "      <td>hpg_fbe603376b5980fc</td>\n",
       "    </tr>\n",
       "    <tr>\n",
       "      <th>1</th>\n",
       "      <td>air_00a91d42b08b08d9</td>\n",
       "      <td>2016-07-02</td>\n",
       "      <td>9</td>\n",
       "      <td>5</td>\n",
       "      <td>3.0</td>\n",
       "      <td>14.973684</td>\n",
       "      <td>11.0</td>\n",
       "      <td>99.0</td>\n",
       "      <td>38.0</td>\n",
       "      <td>Italian/French</td>\n",
       "      <td>Tōkyō-to Chiyoda-ku Kudanminami</td>\n",
       "      <td>35.694003</td>\n",
       "      <td>139.753595</td>\n",
       "      <td>hpg_fbe603376b5980fc</td>\n",
       "    </tr>\n",
       "    <tr>\n",
       "      <th>2</th>\n",
       "      <td>air_00a91d42b08b08d9</td>\n",
       "      <td>2016-07-04</td>\n",
       "      <td>20</td>\n",
       "      <td>0</td>\n",
       "      <td>1.0</td>\n",
       "      <td>22.457143</td>\n",
       "      <td>19.0</td>\n",
       "      <td>47.0</td>\n",
       "      <td>35.0</td>\n",
       "      <td>Italian/French</td>\n",
       "      <td>Tōkyō-to Chiyoda-ku Kudanminami</td>\n",
       "      <td>35.694003</td>\n",
       "      <td>139.753595</td>\n",
       "      <td>hpg_fbe603376b5980fc</td>\n",
       "    </tr>\n",
       "    <tr>\n",
       "      <th>3</th>\n",
       "      <td>air_00a91d42b08b08d9</td>\n",
       "      <td>2016-07-05</td>\n",
       "      <td>25</td>\n",
       "      <td>1</td>\n",
       "      <td>1.0</td>\n",
       "      <td>24.350000</td>\n",
       "      <td>24.5</td>\n",
       "      <td>43.0</td>\n",
       "      <td>40.0</td>\n",
       "      <td>Italian/French</td>\n",
       "      <td>Tōkyō-to Chiyoda-ku Kudanminami</td>\n",
       "      <td>35.694003</td>\n",
       "      <td>139.753595</td>\n",
       "      <td>hpg_fbe603376b5980fc</td>\n",
       "    </tr>\n",
       "    <tr>\n",
       "      <th>4</th>\n",
       "      <td>air_00a91d42b08b08d9</td>\n",
       "      <td>2016-07-06</td>\n",
       "      <td>29</td>\n",
       "      <td>2</td>\n",
       "      <td>15.0</td>\n",
       "      <td>28.125000</td>\n",
       "      <td>28.0</td>\n",
       "      <td>52.0</td>\n",
       "      <td>40.0</td>\n",
       "      <td>Italian/French</td>\n",
       "      <td>Tōkyō-to Chiyoda-ku Kudanminami</td>\n",
       "      <td>35.694003</td>\n",
       "      <td>139.753595</td>\n",
       "      <td>hpg_fbe603376b5980fc</td>\n",
       "    </tr>\n",
       "  </tbody>\n",
       "</table>\n",
       "</div>"
      ],
      "text/plain": [
       "           air_store_id  visit_date  visitors  dow  min_visitors  \\\n",
       "0  air_00a91d42b08b08d9  2016-07-01        35    4          17.0   \n",
       "1  air_00a91d42b08b08d9  2016-07-02         9    5           3.0   \n",
       "2  air_00a91d42b08b08d9  2016-07-04        20    0           1.0   \n",
       "3  air_00a91d42b08b08d9  2016-07-05        25    1           1.0   \n",
       "4  air_00a91d42b08b08d9  2016-07-06        29    2          15.0   \n",
       "\n",
       "   mean_visitors  median_visitors  max_visitors  count_observations  \\\n",
       "0      36.500000             35.5          57.0                40.0   \n",
       "1      14.973684             11.0          99.0                38.0   \n",
       "2      22.457143             19.0          47.0                35.0   \n",
       "3      24.350000             24.5          43.0                40.0   \n",
       "4      28.125000             28.0          52.0                40.0   \n",
       "\n",
       "   air_genre_name                    air_area_name   latitude   longitude  \\\n",
       "0  Italian/French  Tōkyō-to Chiyoda-ku Kudanminami  35.694003  139.753595   \n",
       "1  Italian/French  Tōkyō-to Chiyoda-ku Kudanminami  35.694003  139.753595   \n",
       "2  Italian/French  Tōkyō-to Chiyoda-ku Kudanminami  35.694003  139.753595   \n",
       "3  Italian/French  Tōkyō-to Chiyoda-ku Kudanminami  35.694003  139.753595   \n",
       "4  Italian/French  Tōkyō-to Chiyoda-ku Kudanminami  35.694003  139.753595   \n",
       "\n",
       "           hpg_store_id  \n",
       "0  hpg_fbe603376b5980fc  \n",
       "1  hpg_fbe603376b5980fc  \n",
       "2  hpg_fbe603376b5980fc  \n",
       "3  hpg_fbe603376b5980fc  \n",
       "4  hpg_fbe603376b5980fc  "
      ]
     },
     "execution_count": 109,
     "metadata": {},
     "output_type": "execute_result"
    }
   ],
   "source": [
    "df_train.head()"
   ]
  },
  {
   "cell_type": "markdown",
   "metadata": {},
   "source": [
    "Lets look for NA"
   ]
  },
  {
   "cell_type": "code",
   "execution_count": 110,
   "metadata": {},
   "outputs": [
    {
     "data": {
      "text/plain": [
       "air_store_id               0\n",
       "visit_date                 0\n",
       "visitors                   0\n",
       "dow                        0\n",
       "min_visitors            1640\n",
       "mean_visitors           1640\n",
       "median_visitors         1640\n",
       "max_visitors            1640\n",
       "count_observations      1640\n",
       "air_genre_name          1640\n",
       "air_area_name           1640\n",
       "latitude                1640\n",
       "longitude               1640\n",
       "hpg_store_id          206089\n",
       "dtype: int64"
      ]
     },
     "execution_count": 110,
     "metadata": {},
     "output_type": "execute_result"
    }
   ],
   "source": [
    "df_train.isnull().sum()"
   ]
  },
  {
   "cell_type": "markdown",
   "metadata": {},
   "source": [
    "Lets drop all NaN values except hpg_store_id because 1640 from 252000 is really insignificant percent."
   ]
  },
  {
   "cell_type": "code",
   "execution_count": 111,
   "metadata": {},
   "outputs": [
    {
     "data": {
      "text/plain": [
       "air_store_id               0\n",
       "visit_date                 0\n",
       "visitors                   0\n",
       "dow                        0\n",
       "min_visitors               0\n",
       "mean_visitors              0\n",
       "median_visitors            0\n",
       "max_visitors               0\n",
       "count_observations         0\n",
       "air_genre_name             0\n",
       "air_area_name              0\n",
       "latitude                   0\n",
       "longitude                  0\n",
       "hpg_store_id          204449\n",
       "dtype: int64"
      ]
     },
     "execution_count": 111,
     "metadata": {},
     "output_type": "execute_result"
    }
   ],
   "source": [
    "df_train.dropna(subset = ['air_area_name'], inplace=True)\n",
    "df_train.isnull().sum()"
   ]
  },
  {
   "cell_type": "markdown",
   "metadata": {},
   "source": [
    "## Working with periodical type of data"
   ]
  },
  {
   "cell_type": "markdown",
   "metadata": {},
   "source": [
    "We have numeric day of week column and information about day in month and month in year in date of visit column. Lets transform it to new columns and to cyclic format"
   ]
  },
  {
   "cell_type": "code",
   "execution_count": 112,
   "metadata": {},
   "outputs": [],
   "source": [
    "def extract_number_from_date(value, separator, index):\n",
    "    return int(value.split(separator)[index])"
   ]
  },
  {
   "cell_type": "code",
   "execution_count": 113,
   "metadata": {},
   "outputs": [],
   "source": [
    "df_train['dim'] = df_train['visit_date'].map(lambda x: extract_number_from_date(x, '-', 2)) # day in month\n",
    "df_train['miy'] = df_train['visit_date'].map(lambda x: extract_number_from_date(x, '-', 1)) # month in year\n",
    "\n",
    "del df_train['visit_date']"
   ]
  },
  {
   "cell_type": "code",
   "execution_count": 114,
   "metadata": {
    "scrolled": true
   },
   "outputs": [
    {
     "data": {
      "text/html": [
       "<div>\n",
       "<style scoped>\n",
       "    .dataframe tbody tr th:only-of-type {\n",
       "        vertical-align: middle;\n",
       "    }\n",
       "\n",
       "    .dataframe tbody tr th {\n",
       "        vertical-align: top;\n",
       "    }\n",
       "\n",
       "    .dataframe thead th {\n",
       "        text-align: right;\n",
       "    }\n",
       "</style>\n",
       "<table border=\"1\" class=\"dataframe\">\n",
       "  <thead>\n",
       "    <tr style=\"text-align: right;\">\n",
       "      <th></th>\n",
       "      <th>air_store_id</th>\n",
       "      <th>visitors</th>\n",
       "      <th>dow</th>\n",
       "      <th>min_visitors</th>\n",
       "      <th>mean_visitors</th>\n",
       "      <th>median_visitors</th>\n",
       "      <th>max_visitors</th>\n",
       "      <th>count_observations</th>\n",
       "      <th>air_genre_name</th>\n",
       "      <th>air_area_name</th>\n",
       "      <th>latitude</th>\n",
       "      <th>longitude</th>\n",
       "      <th>hpg_store_id</th>\n",
       "      <th>dim</th>\n",
       "      <th>miy</th>\n",
       "    </tr>\n",
       "  </thead>\n",
       "  <tbody>\n",
       "    <tr>\n",
       "      <th>0</th>\n",
       "      <td>air_00a91d42b08b08d9</td>\n",
       "      <td>35</td>\n",
       "      <td>4</td>\n",
       "      <td>17.0</td>\n",
       "      <td>36.500000</td>\n",
       "      <td>35.5</td>\n",
       "      <td>57.0</td>\n",
       "      <td>40.0</td>\n",
       "      <td>Italian/French</td>\n",
       "      <td>Tōkyō-to Chiyoda-ku Kudanminami</td>\n",
       "      <td>35.694003</td>\n",
       "      <td>139.753595</td>\n",
       "      <td>hpg_fbe603376b5980fc</td>\n",
       "      <td>1</td>\n",
       "      <td>7</td>\n",
       "    </tr>\n",
       "    <tr>\n",
       "      <th>1</th>\n",
       "      <td>air_00a91d42b08b08d9</td>\n",
       "      <td>9</td>\n",
       "      <td>5</td>\n",
       "      <td>3.0</td>\n",
       "      <td>14.973684</td>\n",
       "      <td>11.0</td>\n",
       "      <td>99.0</td>\n",
       "      <td>38.0</td>\n",
       "      <td>Italian/French</td>\n",
       "      <td>Tōkyō-to Chiyoda-ku Kudanminami</td>\n",
       "      <td>35.694003</td>\n",
       "      <td>139.753595</td>\n",
       "      <td>hpg_fbe603376b5980fc</td>\n",
       "      <td>2</td>\n",
       "      <td>7</td>\n",
       "    </tr>\n",
       "    <tr>\n",
       "      <th>2</th>\n",
       "      <td>air_00a91d42b08b08d9</td>\n",
       "      <td>20</td>\n",
       "      <td>0</td>\n",
       "      <td>1.0</td>\n",
       "      <td>22.457143</td>\n",
       "      <td>19.0</td>\n",
       "      <td>47.0</td>\n",
       "      <td>35.0</td>\n",
       "      <td>Italian/French</td>\n",
       "      <td>Tōkyō-to Chiyoda-ku Kudanminami</td>\n",
       "      <td>35.694003</td>\n",
       "      <td>139.753595</td>\n",
       "      <td>hpg_fbe603376b5980fc</td>\n",
       "      <td>4</td>\n",
       "      <td>7</td>\n",
       "    </tr>\n",
       "    <tr>\n",
       "      <th>3</th>\n",
       "      <td>air_00a91d42b08b08d9</td>\n",
       "      <td>25</td>\n",
       "      <td>1</td>\n",
       "      <td>1.0</td>\n",
       "      <td>24.350000</td>\n",
       "      <td>24.5</td>\n",
       "      <td>43.0</td>\n",
       "      <td>40.0</td>\n",
       "      <td>Italian/French</td>\n",
       "      <td>Tōkyō-to Chiyoda-ku Kudanminami</td>\n",
       "      <td>35.694003</td>\n",
       "      <td>139.753595</td>\n",
       "      <td>hpg_fbe603376b5980fc</td>\n",
       "      <td>5</td>\n",
       "      <td>7</td>\n",
       "    </tr>\n",
       "    <tr>\n",
       "      <th>4</th>\n",
       "      <td>air_00a91d42b08b08d9</td>\n",
       "      <td>29</td>\n",
       "      <td>2</td>\n",
       "      <td>15.0</td>\n",
       "      <td>28.125000</td>\n",
       "      <td>28.0</td>\n",
       "      <td>52.0</td>\n",
       "      <td>40.0</td>\n",
       "      <td>Italian/French</td>\n",
       "      <td>Tōkyō-to Chiyoda-ku Kudanminami</td>\n",
       "      <td>35.694003</td>\n",
       "      <td>139.753595</td>\n",
       "      <td>hpg_fbe603376b5980fc</td>\n",
       "      <td>6</td>\n",
       "      <td>7</td>\n",
       "    </tr>\n",
       "  </tbody>\n",
       "</table>\n",
       "</div>"
      ],
      "text/plain": [
       "           air_store_id  visitors  dow  min_visitors  mean_visitors  \\\n",
       "0  air_00a91d42b08b08d9        35    4          17.0      36.500000   \n",
       "1  air_00a91d42b08b08d9         9    5           3.0      14.973684   \n",
       "2  air_00a91d42b08b08d9        20    0           1.0      22.457143   \n",
       "3  air_00a91d42b08b08d9        25    1           1.0      24.350000   \n",
       "4  air_00a91d42b08b08d9        29    2          15.0      28.125000   \n",
       "\n",
       "   median_visitors  max_visitors  count_observations  air_genre_name  \\\n",
       "0             35.5          57.0                40.0  Italian/French   \n",
       "1             11.0          99.0                38.0  Italian/French   \n",
       "2             19.0          47.0                35.0  Italian/French   \n",
       "3             24.5          43.0                40.0  Italian/French   \n",
       "4             28.0          52.0                40.0  Italian/French   \n",
       "\n",
       "                     air_area_name   latitude   longitude  \\\n",
       "0  Tōkyō-to Chiyoda-ku Kudanminami  35.694003  139.753595   \n",
       "1  Tōkyō-to Chiyoda-ku Kudanminami  35.694003  139.753595   \n",
       "2  Tōkyō-to Chiyoda-ku Kudanminami  35.694003  139.753595   \n",
       "3  Tōkyō-to Chiyoda-ku Kudanminami  35.694003  139.753595   \n",
       "4  Tōkyō-to Chiyoda-ku Kudanminami  35.694003  139.753595   \n",
       "\n",
       "           hpg_store_id  dim  miy  \n",
       "0  hpg_fbe603376b5980fc    1    7  \n",
       "1  hpg_fbe603376b5980fc    2    7  \n",
       "2  hpg_fbe603376b5980fc    4    7  \n",
       "3  hpg_fbe603376b5980fc    5    7  \n",
       "4  hpg_fbe603376b5980fc    6    7  "
      ]
     },
     "execution_count": 114,
     "metadata": {},
     "output_type": "execute_result"
    }
   ],
   "source": [
    "df_train.head()"
   ]
  },
  {
   "cell_type": "markdown",
   "metadata": {},
   "source": [
    "## Initial data research"
   ]
  },
  {
   "cell_type": "markdown",
   "metadata": {},
   "source": [
    "##### Date fields"
   ]
  },
  {
   "cell_type": "code",
   "execution_count": 115,
   "metadata": {},
   "outputs": [],
   "source": [
    "df_dates = df_train.filter(['visitors', 'dow', 'dim', 'miy'])"
   ]
  },
  {
   "cell_type": "code",
   "execution_count": 116,
   "metadata": {},
   "outputs": [
    {
     "data": {
      "text/plain": [
       "<matplotlib.axes._subplots.AxesSubplot at 0x7fc8235278d0>"
      ]
     },
     "execution_count": 116,
     "metadata": {},
     "output_type": "execute_result"
    },
    {
     "data": {
      "image/png": "[encoded data removed]",
      "text/plain": [
       "<matplotlib.figure.Figure at 0x7fc82354ddd8>"
      ]
     },
     "metadata": {},
     "output_type": "display_data"
    }
   ],
   "source": [
    "corr = df_dates.corr()\n",
    "plt.figure(figsize=(10, 7))\n",
    "sns.heatmap(corr, xticklabels=corr.columns, yticklabels=corr.columns, annot=True)"
   ]
  },
  {
   "cell_type": "markdown",
   "metadata": {},
   "source": [
    "It seems like there is very small correlation between day of week and number of visitors but it is really insignificant. Other features have no correlation at all."
   ]
  },
  {
   "cell_type": "markdown",
   "metadata": {},
   "source": [
    "Lets check distribution of visitors over days of week and day of month and month in year"
   ]
  },
  {
   "cell_type": "code",
   "execution_count": 117,
   "metadata": {},
   "outputs": [
    {
     "data": {
      "text/plain": [
       "<matplotlib.axes._subplots.AxesSubplot at 0x7fc823514518>"
      ]
     },
     "execution_count": 117,
     "metadata": {},
     "output_type": "execute_result"
    },
    {
     "data": {
      "image/png": "[encoded data removed]",
      "text/plain": [
       "<matplotlib.figure.Figure at 0x7fc823d9b550>"
      ]
     },
     "metadata": {},
     "output_type": "display_data"
    }
   ],
   "source": [
    "df_days = df_train.filter(['dow', 'visitors']).groupby('dow')['visitors'].size().reset_index()\n",
    "plt.rcParams['figure.figsize'] = (8,5)\n",
    "sns.barplot(x='dow', y='visitors', data=df_days)"
   ]
  },
  {
   "cell_type": "markdown",
   "metadata": {},
   "source": [
    "0 - Monday, 6 - Sunday"
   ]
  },
  {
   "cell_type": "code",
   "execution_count": 118,
   "metadata": {},
   "outputs": [
    {
     "data": {
      "text/plain": [
       "<matplotlib.axes._subplots.AxesSubplot at 0x7fc823bedba8>"
      ]
     },
     "execution_count": 118,
     "metadata": {},
     "output_type": "execute_result"
    },
    {
     "data": {
      "image/png": "[encoded data removed]",
      "text/plain": [
       "<matplotlib.figure.Figure at 0x7fc823bdb4e0>"
      ]
     },
     "metadata": {},
     "output_type": "display_data"
    }
   ],
   "source": [
    "df_days = df_train.filter(['dim', 'visitors']).groupby('dim')['visitors'].size().reset_index()\n",
    "plt.rcParams['figure.figsize'] = (8,5)\n",
    "sns.barplot(x='dim', y='visitors', data=df_days)"
   ]
  },
  {
   "cell_type": "markdown",
   "metadata": {},
   "source": [
    "It seems like visiting statistics are more or less stable during month. Small value at 31 is due to the fact of only half months in year have 31 days."
   ]
  },
  {
   "cell_type": "code",
   "execution_count": 119,
   "metadata": {},
   "outputs": [
    {
     "data": {
      "text/plain": [
       "<matplotlib.axes._subplots.AxesSubplot at 0x7fc823bd9d68>"
      ]
     },
     "execution_count": 119,
     "metadata": {},
     "output_type": "execute_result"
    },
    {
     "data": {
      "image/png": "[encoded data removed]",
      "text/plain": [
       "<matplotlib.figure.Figure at 0x7fc823509a58>"
      ]
     },
     "metadata": {},
     "output_type": "display_data"
    }
   ],
   "source": [
    "df_months = df_train.filter(['miy', 'visitors']).groupby('miy')['visitors'].size().reset_index()\n",
    "plt.rcParams['figure.figsize'] = (8,5)\n",
    "sns.barplot(x='miy', y='visitors', data=df_months)"
   ]
  },
  {
   "cell_type": "markdown",
   "metadata": {},
   "source": [
    "There is clear difference in number of visitors during May and June. Maybe it is caused by lack of money after high activity during first three months in year. So I will split months in three groups:\n",
    "* High activity (> 25000): January, February and March\n",
    "* Medium activity (~ 20000): April, July, August, September, October, November, December\n",
    "* Low activity (< 10000): May and June"
   ]
  },
  {
   "cell_type": "code",
   "execution_count": 120,
   "metadata": {},
   "outputs": [],
   "source": [
    "def group_month(x):\n",
    "    return {\n",
    "        1: 'High', 2: 'High', 3: 'High',\n",
    "        4: 'Medium', 7: 'Medium', 8: 'Medium', 9: 'Medium', 10: 'Medium', 11: 'Medium', 12: 'Medium',\n",
    "        5: 'Low', 6: 'Low'\n",
    "    }[x]\n",
    "\n",
    "df_train['miy_grp'] = df_train['miy'].map(lambda x: group_month(x))"
   ]
  },
  {
   "cell_type": "markdown",
   "metadata": {},
   "source": [
    "##### Genre fields\n",
    "Lets look at genres distribution by number of records and number of visitors"
   ]
  },
  {
   "cell_type": "code",
   "execution_count": 121,
   "metadata": {},
   "outputs": [
    {
     "data": {
      "text/plain": [
       "[Text(0,0.5,'Genre'), Text(0.5,0,'Restaurants')]"
      ]
     },
     "execution_count": 121,
     "metadata": {},
     "output_type": "execute_result"
    },
    {
     "data": {
      "image/png": "[encoded data removed]",
      "text/plain": [
       "<matplotlib.figure.Figure at 0x7fc823641240>"
      ]
     },
     "metadata": {},
     "output_type": "display_data"
    }
   ],
   "source": [
    "df_genre = df_train['air_genre_name'].value_counts().to_frame().reset_index()\n",
    "plt.rcParams['figure.figsize'] = (10,7)\n",
    "ax = sns.barplot(y='index', x='air_genre_name', data=df_genre)\n",
    "ax.set(xlabel='Restaurants', ylabel='Genre')"
   ]
  },
  {
   "cell_type": "code",
   "execution_count": 122,
   "metadata": {
    "scrolled": false
   },
   "outputs": [
    {
     "data": {
      "text/plain": [
       "[Text(0,0.5,'Genre'), Text(0.5,0,'Visitors')]"
      ]
     },
     "execution_count": 122,
     "metadata": {},
     "output_type": "execute_result"
    },
    {
     "data": {
      "image/png": "[encoded data removed]",
      "text/plain": [
       "<matplotlib.figure.Figure at 0x7fc8233e8470>"
      ]
     },
     "metadata": {},
     "output_type": "display_data"
    }
   ],
   "source": [
    "df_genre = df_train.filter(['air_genre_name', 'visitors']).groupby('air_genre_name')['visitors'].sum().to_frame().reset_index().sort_values('visitors', ascending=False)\n",
    "ax = sns.barplot(y='air_genre_name', x='visitors', data=df_genre)\n",
    "ax.set(xlabel='Visitors', ylabel='Genre')"
   ]
  },
  {
   "cell_type": "markdown",
   "metadata": {},
   "source": [
    "So generally we have four levels of popularity here:\n",
    "* High popularity: Izakaya, Cafe/Sweets\n",
    "* Medium popularity: Dining bar, Italian/French, Bar/Cocktail, Japanese food\n",
    "* Low popularity: Other, Yakiniku/Korean food, Western food, Creative cuisine, Okonomiyaki/Monja/Teppanyaki\n",
    "* No popularity: Asian, Karaoke/Party, International cuisine\n",
    "\n",
    "These groups are visible both at statistics of existing restaraunts and number of visitors in these restaraunts."
   ]
  },
  {
   "cell_type": "code",
   "execution_count": 123,
   "metadata": {},
   "outputs": [],
   "source": [
    "def group_genre(x):\n",
    "    return {\n",
    "        'Izakaya': 'High', 'Cafe/Sweets': 'High',\n",
    "        'Dining bar': 'Medium', 'Italian/French': 'Medium', 'Bar/Cocktail': 'Medium', 'Japanese food': 'Medium',\n",
    "        'Other': 'Low', 'Yakiniku/Korean food': 'Low', 'Western food': 'Low', 'Creative cuisine': 'Low', 'Okonomiyaki/Monja/Teppanyaki': 'Low',\n",
    "        'Asian': 'Lowest', 'Karaoke/Party': 'Lowest', 'International cuisine': 'Lowest'\n",
    "    }[x]\n",
    "\n",
    "df_train['genre_grp'] = df_train['air_genre_name'].map(lambda x: group_genre(x))"
   ]
  },
  {
   "cell_type": "markdown",
   "metadata": {},
   "source": [
    "##### Area fields\n",
    "Lets extract city from area name and check distribution of visitors over different cities"
   ]
  },
  {
   "cell_type": "code",
   "execution_count": 124,
   "metadata": {},
   "outputs": [],
   "source": [
    "def extract_city_from_area(value, separator, index):\n",
    "    return value.split(separator)[index]"
   ]
  },
  {
   "cell_type": "code",
   "execution_count": 125,
   "metadata": {},
   "outputs": [
    {
     "data": {
      "text/plain": [
       "<matplotlib.axes._subplots.AxesSubplot at 0x7fc82365d128>"
      ]
     },
     "execution_count": 125,
     "metadata": {},
     "output_type": "execute_result"
    },
    {
     "data": {
      "image/png": "[encoded data removed]",
      "text/plain": [
       "<matplotlib.figure.Figure at 0x7fc8237080f0>"
      ]
     },
     "metadata": {},
     "output_type": "display_data"
    }
   ],
   "source": [
    "df_train['city'] = df_train['air_area_name'].map(lambda x: extract_city_from_area(x, ' ', 0))\n",
    "\n",
    "df_cities = df_train.filter(['city', 'visitors']).groupby('city')['visitors'].sum().to_frame().reset_index().sort_values('visitors', ascending=False)\n",
    "sns.barplot(y='city', x='visitors', data=df_cities)"
   ]
  },
  {
   "cell_type": "markdown",
   "metadata": {},
   "source": [
    "Tokio is obvious leader here but lets check number of restaraunts by city. Maybe Tokios leadership is only because most of cafes are there."
   ]
  },
  {
   "cell_type": "code",
   "execution_count": 126,
   "metadata": {},
   "outputs": [
    {
     "data": {
      "text/plain": [
       "<matplotlib.axes._subplots.AxesSubplot at 0x7fc821dffba8>"
      ]
     },
     "execution_count": 126,
     "metadata": {},
     "output_type": "execute_result"
    },
    {
     "data": {
      "image/png": "[encoded data removed]",
      "text/plain": [
       "<matplotlib.figure.Figure at 0x7fc823d435f8>"
      ]
     },
     "metadata": {},
     "output_type": "display_data"
    }
   ],
   "source": [
    "df_cities = df_train.filter(['city'])['city'].value_counts().to_frame().reset_index()\n",
    "sns.barplot(y='index', x='city', data=df_cities)"
   ]
  },
  {
   "cell_type": "markdown",
   "metadata": {},
   "source": [
    "Distribution is exactly same as on previous chart so probably big number of visitors is strongly related to number of restaraunts. Lets double check this by chart of median number of visitors per cafe per city:"
   ]
  },
  {
   "cell_type": "code",
   "execution_count": 127,
   "metadata": {},
   "outputs": [
    {
     "data": {
      "text/plain": [
       "<matplotlib.axes._subplots.AxesSubplot at 0x7fc821d00b38>"
      ]
     },
     "execution_count": 127,
     "metadata": {},
     "output_type": "execute_result"
    },
    {
     "data": {
      "image/png": "[encoded data removed]",
      "text/plain": [
       "<matplotlib.figure.Figure at 0x7fc821db6518>"
      ]
     },
     "metadata": {},
     "output_type": "display_data"
    }
   ],
   "source": [
    "df_cities = df_train.filter(['city', 'median_visitors']).groupby('city').agg({'median_visitors': np.median}).reset_index().sort_values('median_visitors', ascending=False)\n",
    "sns.barplot(x='median_visitors', y='city', data=df_cities)"
   ]
  },
  {
   "cell_type": "markdown",
   "metadata": {},
   "source": [
    "Confirmed. There are no special cities."
   ]
  },
  {
   "cell_type": "markdown",
   "metadata": {},
   "source": [
    "##### Coordinate fields"
   ]
  },
  {
   "cell_type": "markdown",
   "metadata": {},
   "source": [
    "Lets show basic heatmap about coordinates"
   ]
  },
  {
   "cell_type": "code",
   "execution_count": 128,
   "metadata": {},
   "outputs": [
    {
     "data": {
      "text/plain": [
       "<matplotlib.axes._subplots.AxesSubplot at 0x7fc821d3a048>"
      ]
     },
     "execution_count": 128,
     "metadata": {},
     "output_type": "execute_result"
    },
    {
     "data": {
      "image/png": "[encoded data removed]",
      "text/plain": [
       "<matplotlib.figure.Figure at 0x7fc828111240>"
      ]
     },
     "metadata": {},
     "output_type": "display_data"
    }
   ],
   "source": [
    "df_coords = df_train.filter(['visitors', 'latitude', 'longitude'])\n",
    "corr = df_coords.corr()\n",
    "plt.figure(figsize=(10, 7))\n",
    "sns.heatmap(corr, xticklabels=corr.columns, yticklabels=corr.columns, annot=True)"
   ]
  },
  {
   "cell_type": "markdown",
   "metadata": {},
   "source": [
    "Strong correlation between longitude and latitude just confirms geografical facts about Japan islands position. No correlation between visitors and coordinates"
   ]
  },
  {
   "cell_type": "markdown",
   "metadata": {},
   "source": [
    "##### HPG store identifier\n",
    "Generally I don't know how to use this identifier because there are so many NaN values there. Lets transform NaN to 0 and all non-empty values to 1"
   ]
  },
  {
   "cell_type": "code",
   "execution_count": 129,
   "metadata": {},
   "outputs": [
    {
     "data": {
      "text/plain": [
       "air_store_id          0\n",
       "visitors              0\n",
       "dow                   0\n",
       "min_visitors          0\n",
       "mean_visitors         0\n",
       "median_visitors       0\n",
       "max_visitors          0\n",
       "count_observations    0\n",
       "air_genre_name        0\n",
       "air_area_name         0\n",
       "latitude              0\n",
       "longitude             0\n",
       "hpg_store_id          0\n",
       "dim                   0\n",
       "miy                   0\n",
       "miy_grp               0\n",
       "genre_grp             0\n",
       "city                  0\n",
       "dtype: int64"
      ]
     },
     "execution_count": 129,
     "metadata": {},
     "output_type": "execute_result"
    }
   ],
   "source": [
    "df_train['hpg_store_id'].head(30)\n",
    "df_train['hpg_store_id'] = np.where(df_train['hpg_store_id'].isnull(), 0, 1)\n",
    "df_train.isnull().sum()"
   ]
  },
  {
   "cell_type": "markdown",
   "metadata": {},
   "source": [
    "## Transform periodical features to cyclic"
   ]
  },
  {
   "cell_type": "code",
   "execution_count": 130,
   "metadata": {},
   "outputs": [],
   "source": [
    "def cat_to_circle(serie):\n",
    "    uniq_values = set(serie)\n",
    "    count_values = len(uniq_values)\n",
    "    \n",
    "    step = 360/count_values\n",
    "    serie = np.cos(np.array([x*step for x in serie])*np.pi/180)+1\n",
    "    \n",
    "    return serie"
   ]
  },
  {
   "cell_type": "code",
   "execution_count": 131,
   "metadata": {},
   "outputs": [],
   "source": [
    "df_train['dow'] += 1 # it is hard to process zeros (value of Monday) in this type of fields\n",
    "df_train['dow'] = cat_to_circle(df_train['dow'])\n",
    "df_train['dim'] = cat_to_circle(df_train['dim'])\n",
    "df_train['miy'] = cat_to_circle(df_train['miy'])"
   ]
  },
  {
   "cell_type": "markdown",
   "metadata": {},
   "source": [
    "## Drop useless features"
   ]
  },
  {
   "cell_type": "code",
   "execution_count": 132,
   "metadata": {
    "scrolled": true
   },
   "outputs": [
    {
     "data": {
      "text/html": [
       "<div>\n",
       "<style scoped>\n",
       "    .dataframe tbody tr th:only-of-type {\n",
       "        vertical-align: middle;\n",
       "    }\n",
       "\n",
       "    .dataframe tbody tr th {\n",
       "        vertical-align: top;\n",
       "    }\n",
       "\n",
       "    .dataframe thead th {\n",
       "        text-align: right;\n",
       "    }\n",
       "</style>\n",
       "<table border=\"1\" class=\"dataframe\">\n",
       "  <thead>\n",
       "    <tr style=\"text-align: right;\">\n",
       "      <th></th>\n",
       "      <th>visitors</th>\n",
       "      <th>dow</th>\n",
       "      <th>count_observations</th>\n",
       "      <th>hpg_store_id</th>\n",
       "      <th>dim</th>\n",
       "      <th>miy</th>\n",
       "      <th>miy_grp</th>\n",
       "      <th>genre_grp</th>\n",
       "      <th>city</th>\n",
       "    </tr>\n",
       "  </thead>\n",
       "  <tbody>\n",
       "    <tr>\n",
       "      <th>0</th>\n",
       "      <td>35</td>\n",
       "      <td>0.777479</td>\n",
       "      <td>40.0</td>\n",
       "      <td>1</td>\n",
       "      <td>1.979530</td>\n",
       "      <td>0.133975</td>\n",
       "      <td>Medium</td>\n",
       "      <td>Medium</td>\n",
       "      <td>Tōkyō-to</td>\n",
       "    </tr>\n",
       "    <tr>\n",
       "      <th>1</th>\n",
       "      <td>9</td>\n",
       "      <td>1.623490</td>\n",
       "      <td>38.0</td>\n",
       "      <td>1</td>\n",
       "      <td>1.918958</td>\n",
       "      <td>0.133975</td>\n",
       "      <td>Medium</td>\n",
       "      <td>Medium</td>\n",
       "      <td>Tōkyō-to</td>\n",
       "    </tr>\n",
       "    <tr>\n",
       "      <th>2</th>\n",
       "      <td>20</td>\n",
       "      <td>1.623490</td>\n",
       "      <td>35.0</td>\n",
       "      <td>1</td>\n",
       "      <td>1.688967</td>\n",
       "      <td>0.133975</td>\n",
       "      <td>Medium</td>\n",
       "      <td>Medium</td>\n",
       "      <td>Tōkyō-to</td>\n",
       "    </tr>\n",
       "    <tr>\n",
       "      <th>3</th>\n",
       "      <td>25</td>\n",
       "      <td>0.777479</td>\n",
       "      <td>40.0</td>\n",
       "      <td>1</td>\n",
       "      <td>1.528964</td>\n",
       "      <td>0.133975</td>\n",
       "      <td>Medium</td>\n",
       "      <td>Medium</td>\n",
       "      <td>Tōkyō-to</td>\n",
       "    </tr>\n",
       "    <tr>\n",
       "      <th>4</th>\n",
       "      <td>29</td>\n",
       "      <td>0.099031</td>\n",
       "      <td>40.0</td>\n",
       "      <td>1</td>\n",
       "      <td>1.347305</td>\n",
       "      <td>0.133975</td>\n",
       "      <td>Medium</td>\n",
       "      <td>Medium</td>\n",
       "      <td>Tōkyō-to</td>\n",
       "    </tr>\n",
       "  </tbody>\n",
       "</table>\n",
       "</div>"
      ],
      "text/plain": [
       "   visitors       dow  count_observations  hpg_store_id       dim       miy  \\\n",
       "0        35  0.777479                40.0             1  1.979530  0.133975   \n",
       "1         9  1.623490                38.0             1  1.918958  0.133975   \n",
       "2        20  1.623490                35.0             1  1.688967  0.133975   \n",
       "3        25  0.777479                40.0             1  1.528964  0.133975   \n",
       "4        29  0.099031                40.0             1  1.347305  0.133975   \n",
       "\n",
       "  miy_grp genre_grp      city  \n",
       "0  Medium    Medium  Tōkyō-to  \n",
       "1  Medium    Medium  Tōkyō-to  \n",
       "2  Medium    Medium  Tōkyō-to  \n",
       "3  Medium    Medium  Tōkyō-to  \n",
       "4  Medium    Medium  Tōkyō-to  "
      ]
     },
     "execution_count": 132,
     "metadata": {},
     "output_type": "execute_result"
    }
   ],
   "source": [
    "del df_train['air_store_id']\n",
    "del df_train['air_genre_name'] \n",
    "del df_train['air_area_name'] \n",
    "del df_train['latitude']\n",
    "del df_train['longitude']\n",
    "\n",
    "del df_train['min_visitors']\n",
    "del df_train['mean_visitors']\n",
    "del df_train['median_visitors']\n",
    "del df_train['max_visitors']\n",
    "\n",
    "df_train.head()"
   ]
  },
  {
   "cell_type": "markdown",
   "metadata": {},
   "source": [
    "## Create dummies for categorical features"
   ]
  },
  {
   "cell_type": "code",
   "execution_count": 133,
   "metadata": {
    "scrolled": true
   },
   "outputs": [
    {
     "name": "stdout",
     "output_type": "stream",
     "text": [
      "<class 'pandas.core.frame.DataFrame'>\n",
      "Int64Index: 250468 entries, 0 to 252107\n",
      "Data columns (total 22 columns):\n",
      "visitors              250468 non-null int64\n",
      "dow                   250468 non-null float64\n",
      "count_observations    250468 non-null float64\n",
      "hpg_store_id          250468 non-null int64\n",
      "dim                   250468 non-null float64\n",
      "miy                   250468 non-null float64\n",
      "miy_grp_High          250468 non-null uint8\n",
      "miy_grp_Low           250468 non-null uint8\n",
      "miy_grp_Medium        250468 non-null uint8\n",
      "genre_grp_High        250468 non-null uint8\n",
      "genre_grp_Low         250468 non-null uint8\n",
      "genre_grp_Lowest      250468 non-null uint8\n",
      "genre_grp_Medium      250468 non-null uint8\n",
      "city_Fukuoka-ken      250468 non-null uint8\n",
      "city_Hiroshima-ken    250468 non-null uint8\n",
      "city_Hokkaidō         250468 non-null uint8\n",
      "city_Hyōgo-ken        250468 non-null uint8\n",
      "city_Miyagi-ken       250468 non-null uint8\n",
      "city_Niigata-ken      250468 non-null uint8\n",
      "city_Shizuoka-ken     250468 non-null uint8\n",
      "city_Tōkyō-to         250468 non-null uint8\n",
      "city_Ōsaka-fu         250468 non-null uint8\n",
      "dtypes: float64(4), int64(2), uint8(16)\n",
      "memory usage: 17.2 MB\n"
     ]
    }
   ],
   "source": [
    "df_train = pd.get_dummies(df_train)\n",
    "df_train.info()"
   ]
  },
  {
   "cell_type": "code",
   "execution_count": 134,
   "metadata": {},
   "outputs": [],
   "source": [
    "y_train = df_train['visitors']\n",
    "X_train = df_train.loc[:, df_train.columns != 'visitors']"
   ]
  },
  {
   "cell_type": "markdown",
   "metadata": {},
   "source": [
    "# Initial feature importance evaluation\n",
    "We have 21 features. Some of them are important and others are not. Lets use LinearRegression, Lasso and Random Forest to find most important features."
   ]
  },
  {
   "cell_type": "code",
   "execution_count": 135,
   "metadata": {},
   "outputs": [
    {
     "data": {
      "text/plain": [
       "LinearRegression(copy_X=True, fit_intercept=True, n_jobs=9, normalize=False)"
      ]
     },
     "execution_count": 135,
     "metadata": {},
     "output_type": "execute_result"
    }
   ],
   "source": [
    "lr = LinearRegression(n_jobs = cores)\n",
    "lr.fit(X_train, y_train)"
   ]
  },
  {
   "cell_type": "code",
   "execution_count": 136,
   "metadata": {},
   "outputs": [],
   "source": [
    "lr_coeficients = lr.coef_\n",
    "#lr_coeficients"
   ]
  },
  {
   "cell_type": "code",
   "execution_count": 137,
   "metadata": {},
   "outputs": [],
   "source": [
    "x_columns = X_train.columns.values\n",
    "#x_columns"
   ]
  },
  {
   "cell_type": "code",
   "execution_count": 138,
   "metadata": {},
   "outputs": [],
   "source": [
    "lr_data = pd.DataFrame({'features': x_columns, 'lr_importance': lr_coeficients}).sort_values('lr_importance', ascending=False)\n",
    "#lr_data"
   ]
  },
  {
   "cell_type": "code",
   "execution_count": 139,
   "metadata": {},
   "outputs": [],
   "source": [
    "lasso = Lasso(alpha=0.1).fit(X_train, y_train)\n",
    "lasso_coeficients = lasso.coef_\n",
    "#lasso_coeficients"
   ]
  },
  {
   "cell_type": "code",
   "execution_count": 140,
   "metadata": {},
   "outputs": [],
   "source": [
    "ls_data = pd.DataFrame({'features': x_columns, 'ls_importance': lasso_coeficients}).sort_values('ls_importance', ascending=False)\n",
    "#ls_data"
   ]
  },
  {
   "cell_type": "code",
   "execution_count": 141,
   "metadata": {},
   "outputs": [],
   "source": [
    "rf = RandomForestRegressor(n_estimators=200, n_jobs=cores).fit(X_train, y_train)\n",
    "rf_coeficients = rf.feature_importances_\n",
    "#rf_coeficients"
   ]
  },
  {
   "cell_type": "code",
   "execution_count": 142,
   "metadata": {
    "scrolled": false
   },
   "outputs": [],
   "source": [
    "rf_data = pd.DataFrame({'features': x_columns, 'rf_importance': rf_coeficients}).sort_values('rf_importance', ascending=False)\n",
    "#rf_data"
   ]
  },
  {
   "cell_type": "markdown",
   "metadata": {},
   "source": [
    "So top 10 features based on three validators are following. Note that for Lasso only non-zero features were included."
   ]
  },
  {
   "cell_type": "markdown",
   "metadata": {},
   "source": [
    "| Linear Regression | Lasso | Random Forest |\n",
    "|-----|----|-----|\n",
    "| genre_grp_Lowest | dow | dim |\n",
    "| city_Shizuoka-ken | hpg_store_id | count_observations |\n",
    "| hpg_store_id | genre_grp_High | miy |\n",
    "| dow | count_observations | dow |\n",
    "| city_Hyōgo-ken | --- | hpg_store_id |\n",
    "| city_Ōsaka-fu | --- | city_Tōkyō-to |\n",
    "| miy_grp_Medium | --- | genre_grp_Medium |\n",
    "| miy_grp_High | --- | miy_grp_Medium |\n",
    "| count_observations | --- | miy_grp_High |\n",
    "| dim | --- | city_Fukuoka-ken |"
   ]
  },
  {
   "cell_type": "markdown",
   "metadata": {},
   "source": [
    "So we have following number of occurences of features in top half of our validators results:\n",
    "* 3 occurences: dow, hpg_store_id, count_observations\n",
    "* 2 occurences: miy_grp_Medium, miy_grp_High, dim\n",
    "* 1 occurences: genre_grp_Lowest, city_*, genre_grp_Medium"
   ]
  },
  {
   "cell_type": "markdown",
   "metadata": {},
   "source": [
    "##### Few conclusions\n",
    "* 4 from 6 features related to date and time were marked as important. Probably it will be good idea to dig more in time-related part of data set and to extract more features. Maybe it will be also worth to try to create feature combinations.\n",
    "* Genres are not important\n",
    "* Area is not important\n",
    "* Fact that restaurant was registered both in AIR and HPG is important."
   ]
  },
  {
   "cell_type": "markdown",
   "metadata": {},
   "source": [
    "# Features ansambling\n",
    "Lets try to create combinations of features using set of features evaluated as significant of previous step."
   ]
  },
  {
   "cell_type": "code",
   "execution_count": 143,
   "metadata": {},
   "outputs": [],
   "source": [
    "pf = PolynomialFeatures(degree=3, include_bias=False)\n",
    "X_polinomial = pf.fit_transform(X_train)\n",
    "pf_features = pf.get_feature_names(x_columns)"
   ]
  },
  {
   "cell_type": "code",
   "execution_count": 144,
   "metadata": {},
   "outputs": [],
   "source": [
    "lr_poly = LinearRegression(n_jobs = cores)\n",
    "lr_poly.fit(X_polinomial, y_train)\n",
    "\n",
    "lr_poly_coeficients = lr_poly.coef_"
   ]
  },
  {
   "cell_type": "code",
   "execution_count": 145,
   "metadata": {},
   "outputs": [],
   "source": [
    "lr_poly_data = pd.DataFrame({'features': pf_features, 'lr_importance': lr_poly_coeficients}).sort_values('lr_importance', ascending=False)\n",
    "lr_poly_data = lr_poly_data.head(15)"
   ]
  },
  {
   "cell_type": "code",
   "execution_count": 146,
   "metadata": {},
   "outputs": [
    {
     "data": {
      "text/plain": [
       "<matplotlib.axes._subplots.AxesSubplot at 0x7fc823fb23c8>"
      ]
     },
     "execution_count": 146,
     "metadata": {},
     "output_type": "execute_result"
    },
    {
     "data": {
      "image/png": "[encoded data removed]",
      "text/plain": [
       "<matplotlib.figure.Figure at 0x7fc82a196f60>"
      ]
     },
     "metadata": {},
     "output_type": "display_data"
    }
   ],
   "source": [
    "sns.barplot(x='lr_importance', y='features', data=lr_poly_data)"
   ]
  },
  {
   "cell_type": "markdown",
   "metadata": {},
   "source": [
    "##### Few conclusions\n",
    "* First six features are looking really good. Number six is in our initial list so lets add first five issues to dataset.\n",
    "* Feature number 6 was evaluated as not interesting at previous step of analyzis. Probably it is good example of dependency between features."
   ]
  },
  {
   "cell_type": "code",
   "execution_count": 147,
   "metadata": {},
   "outputs": [],
   "source": [
    "X_train['dow_miy_grp_Low'] = X_train['dow']*X_train['miy_grp_Low']\n",
    "X_train['dow_genre_grp_Low_2'] = X_train['dow']*pow(X_train['genre_grp_Low'], 2)\n",
    "X_train['dow_miy_grp_Medium_2'] = X_train['dow']*pow(X_train['miy_grp_Medium'], 2)\n",
    "X_train['dow_genre_grp_Lowest'] = X_train['dow']*X_train['genre_grp_Lowest']\n",
    "X_train['dow_genre_grp_High_2'] = X_train['dow']*pow(X_train['genre_grp_High'], 2)"
   ]
  },
  {
   "cell_type": "code",
   "execution_count": 148,
   "metadata": {},
   "outputs": [],
   "source": [
    "x_columns = X_train.columns.values"
   ]
  },
  {
   "cell_type": "code",
   "execution_count": 149,
   "metadata": {},
   "outputs": [],
   "source": [
    "lr = LinearRegression(n_jobs = cores)\n",
    "lr.fit(X_train, y_train)\n",
    "\n",
    "lr_coeficients = lr.coef_\n",
    "for (index, lc) in enumerate(lr_coeficients):\n",
    "    if lc < 0:\n",
    "        lr_coeficients[index] = 0   \n",
    "        \n",
    "lr_data = pd.DataFrame({'features': x_columns, 'lr_importance': lr_coeficients}).sort_values('lr_importance', ascending=False)\n",
    "#lr_data"
   ]
  },
  {
   "cell_type": "code",
   "execution_count": 150,
   "metadata": {},
   "outputs": [],
   "source": [
    "lasso = Lasso(alpha=0.1).fit(X_train, y_train)\n",
    "\n",
    "lasso_coeficients = lasso.coef_\n",
    "for (index, lc) in enumerate(lasso_coeficients):\n",
    "    if lc < 0:\n",
    "        lasso_coeficients[index] = 0   \n",
    "\n",
    "ls_data = pd.DataFrame({'features': x_columns, 'ls_importance': lasso_coeficients}).sort_values('ls_importance', ascending=False)\n",
    "#ls_data"
   ]
  },
  {
   "cell_type": "code",
   "execution_count": 151,
   "metadata": {},
   "outputs": [],
   "source": [
    "rf = RandomForestRegressor(n_estimators=200, n_jobs=cores).fit(X_train, y_train)\n",
    "rf_coeficients = rf.feature_importances_\n",
    "rf_data = pd.DataFrame({'features': x_columns, 'rf_importance': rf_coeficients}).sort_values('rf_importance', ascending=False)\n",
    "#rf_data"
   ]
  },
  {
   "cell_type": "code",
   "execution_count": 152,
   "metadata": {},
   "outputs": [
    {
     "data": {
      "image/png": "[encoded data removed]",
      "text/plain": [
       "<matplotlib.figure.Figure at 0x7fc823869a20>"
      ]
     },
     "metadata": {},
     "output_type": "display_data"
    }
   ],
   "source": [
    "ind = np.arange(len(rf_coeficients))\n",
    "width = 0.5\n",
    "\n",
    "p1 = plt.barh(ind, lr_coeficients, width)\n",
    "p2 = plt.barh(ind, lasso_coeficients, width)\n",
    "p3 = plt.barh(ind, rf_coeficients, width)\n",
    "plt.yticks(ind, x_columns)\n",
    "plt.legend((p1[0], p2[0], p3[0]), ('Linear Regression', 'Lasso', 'Random Forest'))\n",
    "\n",
    "plt.show()"
   ]
  }
 ],
 "metadata": {
  "kernelspec": {
   "display_name": "Python 3",
   "language": "python",
   "name": "python3"
  },
  "language_info": {
   "codemirror_mode": {
    "name": "ipython",
    "version": 3
   },
   "file_extension": ".py",
   "mimetype": "text/x-python",
   "name": "python",
   "nbconvert_exporter": "python",
   "pygments_lexer": "ipython3",
   "version": "3.6.3"
  }
 },
 "nbformat": 4,
 "nbformat_minor": 2
}
