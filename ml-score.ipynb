{
 "cells": [
  {
   "cell_type": "code",
   "execution_count": 42,
   "metadata": {},
   "outputs": [],
   "source": [
    "import pandas as pd\n",
    "import numpy as np\n",
    "import seaborn as sb\n",
    "import multiprocessing\n",
    "import matplotlib.pyplot as plt\n",
    "from sklearn.model_selection import cross_val_score\n",
    "import random\n",
    "from xgboost import XGBRegressor, plot_importance\n",
    "from sklearn.preprocessing import PolynomialFeatures\n",
    "from sklearn.feature_selection import RFE\n",
    "import pickle"
   ]
  },
  {
   "cell_type": "code",
   "execution_count": 28,
   "metadata": {},
   "outputs": [],
   "source": [
    "df = pd.read_csv('data/hscore.csv')\n",
    "cores = multiprocessing.cpu_count() - 1"
   ]
  },
  {
   "cell_type": "code",
   "execution_count": 29,
   "metadata": {},
   "outputs": [
    {
     "data": {
      "text/html": [
       "<div>\n",
       "<style scoped>\n",
       "    .dataframe tbody tr th:only-of-type {\n",
       "        vertical-align: middle;\n",
       "    }\n",
       "\n",
       "    .dataframe tbody tr th {\n",
       "        vertical-align: top;\n",
       "    }\n",
       "\n",
       "    .dataframe thead th {\n",
       "        text-align: right;\n",
       "    }\n",
       "</style>\n",
       "<table border=\"1\" class=\"dataframe\">\n",
       "  <thead>\n",
       "    <tr style=\"text-align: right;\">\n",
       "      <th></th>\n",
       "      <th>h_score</th>\n",
       "      <th>sales</th>\n",
       "      <th>cost_of_sales</th>\n",
       "      <th>operating_profit</th>\n",
       "      <th>exceptional_items</th>\n",
       "      <th>interest_income_and_other</th>\n",
       "      <th>interest_expense</th>\n",
       "      <th>tax</th>\n",
       "      <th>other_post_tax</th>\n",
       "      <th>dividends</th>\n",
       "      <th>...</th>\n",
       "      <th>accounts_payable</th>\n",
       "      <th>other_current_liabilities</th>\n",
       "      <th>group_balances_payable</th>\n",
       "      <th>long_term_debt</th>\n",
       "      <th>long_liabilities</th>\n",
       "      <th>other_long_term_liabilities</th>\n",
       "      <th>minority_interest</th>\n",
       "      <th>total_shareholders_equity</th>\n",
       "      <th>retained_earnings</th>\n",
       "      <th>industry_code_id</th>\n",
       "    </tr>\n",
       "  </thead>\n",
       "  <tbody>\n",
       "    <tr>\n",
       "      <th>0</th>\n",
       "      <td>30.0</td>\n",
       "      <td>34972079.0</td>\n",
       "      <td>-26230862.0</td>\n",
       "      <td>-997323.0</td>\n",
       "      <td>0.0</td>\n",
       "      <td>-108425.0</td>\n",
       "      <td>-0.0</td>\n",
       "      <td>180927.0</td>\n",
       "      <td>0.0</td>\n",
       "      <td>0.0</td>\n",
       "      <td>...</td>\n",
       "      <td>3019820.0</td>\n",
       "      <td>9076305.0</td>\n",
       "      <td>0.0</td>\n",
       "      <td>0.0</td>\n",
       "      <td>0.0</td>\n",
       "      <td>0.0</td>\n",
       "      <td>0.0</td>\n",
       "      <td>10072754.0</td>\n",
       "      <td>0.0</td>\n",
       "      <td>573.0</td>\n",
       "    </tr>\n",
       "    <tr>\n",
       "      <th>1</th>\n",
       "      <td>77.0</td>\n",
       "      <td>42426695.0</td>\n",
       "      <td>-0.0</td>\n",
       "      <td>4184573.0</td>\n",
       "      <td>0.0</td>\n",
       "      <td>244.0</td>\n",
       "      <td>-20.0</td>\n",
       "      <td>-0.0</td>\n",
       "      <td>-422587.0</td>\n",
       "      <td>0.0</td>\n",
       "      <td>...</td>\n",
       "      <td>6533160.0</td>\n",
       "      <td>6886774.0</td>\n",
       "      <td>0.0</td>\n",
       "      <td>106.0</td>\n",
       "      <td>0.0</td>\n",
       "      <td>957137.0</td>\n",
       "      <td>0.0</td>\n",
       "      <td>6795091.0</td>\n",
       "      <td>0.0</td>\n",
       "      <td>796.0</td>\n",
       "    </tr>\n",
       "    <tr>\n",
       "      <th>2</th>\n",
       "      <td>74.0</td>\n",
       "      <td>46654061.0</td>\n",
       "      <td>-0.0</td>\n",
       "      <td>4761506.0</td>\n",
       "      <td>0.0</td>\n",
       "      <td>5075.0</td>\n",
       "      <td>-768.0</td>\n",
       "      <td>-0.0</td>\n",
       "      <td>-561247.0</td>\n",
       "      <td>0.0</td>\n",
       "      <td>...</td>\n",
       "      <td>7229508.0</td>\n",
       "      <td>9692861.0</td>\n",
       "      <td>0.0</td>\n",
       "      <td>0.0</td>\n",
       "      <td>0.0</td>\n",
       "      <td>947137.0</td>\n",
       "      <td>0.0</td>\n",
       "      <td>7237447.0</td>\n",
       "      <td>0.0</td>\n",
       "      <td>796.0</td>\n",
       "    </tr>\n",
       "    <tr>\n",
       "      <th>3</th>\n",
       "      <td>74.0</td>\n",
       "      <td>41124364.0</td>\n",
       "      <td>-0.0</td>\n",
       "      <td>4377908.0</td>\n",
       "      <td>0.0</td>\n",
       "      <td>-1279.0</td>\n",
       "      <td>-0.0</td>\n",
       "      <td>-0.0</td>\n",
       "      <td>-575168.0</td>\n",
       "      <td>0.0</td>\n",
       "      <td>...</td>\n",
       "      <td>7578606.0</td>\n",
       "      <td>6860763.0</td>\n",
       "      <td>0.0</td>\n",
       "      <td>296734.0</td>\n",
       "      <td>0.0</td>\n",
       "      <td>909137.0</td>\n",
       "      <td>0.0</td>\n",
       "      <td>6834342.0</td>\n",
       "      <td>0.0</td>\n",
       "      <td>796.0</td>\n",
       "    </tr>\n",
       "    <tr>\n",
       "      <th>4</th>\n",
       "      <td>90.0</td>\n",
       "      <td>53801000.0</td>\n",
       "      <td>-0.0</td>\n",
       "      <td>5910000.0</td>\n",
       "      <td>0.0</td>\n",
       "      <td>-745000.0</td>\n",
       "      <td>-182000.0</td>\n",
       "      <td>-0.0</td>\n",
       "      <td>0.0</td>\n",
       "      <td>0.0</td>\n",
       "      <td>...</td>\n",
       "      <td>4498000.0</td>\n",
       "      <td>1732000.0</td>\n",
       "      <td>0.0</td>\n",
       "      <td>0.0</td>\n",
       "      <td>0.0</td>\n",
       "      <td>52000.0</td>\n",
       "      <td>0.0</td>\n",
       "      <td>23208000.0</td>\n",
       "      <td>0.0</td>\n",
       "      <td>573.0</td>\n",
       "    </tr>\n",
       "  </tbody>\n",
       "</table>\n",
       "<p>5 rows × 32 columns</p>\n",
       "</div>"
      ],
      "text/plain": [
       "   h_score       sales  cost_of_sales  operating_profit  exceptional_items  \\\n",
       "0     30.0  34972079.0    -26230862.0         -997323.0                0.0   \n",
       "1     77.0  42426695.0           -0.0         4184573.0                0.0   \n",
       "2     74.0  46654061.0           -0.0         4761506.0                0.0   \n",
       "3     74.0  41124364.0           -0.0         4377908.0                0.0   \n",
       "4     90.0  53801000.0           -0.0         5910000.0                0.0   \n",
       "\n",
       "   interest_income_and_other  interest_expense       tax  other_post_tax  \\\n",
       "0                  -108425.0              -0.0  180927.0             0.0   \n",
       "1                      244.0             -20.0      -0.0       -422587.0   \n",
       "2                     5075.0            -768.0      -0.0       -561247.0   \n",
       "3                    -1279.0              -0.0      -0.0       -575168.0   \n",
       "4                  -745000.0         -182000.0      -0.0             0.0   \n",
       "\n",
       "   dividends        ...         accounts_payable  other_current_liabilities  \\\n",
       "0        0.0        ...                3019820.0                  9076305.0   \n",
       "1        0.0        ...                6533160.0                  6886774.0   \n",
       "2        0.0        ...                7229508.0                  9692861.0   \n",
       "3        0.0        ...                7578606.0                  6860763.0   \n",
       "4        0.0        ...                4498000.0                  1732000.0   \n",
       "\n",
       "   group_balances_payable  long_term_debt  long_liabilities  \\\n",
       "0                     0.0             0.0               0.0   \n",
       "1                     0.0           106.0               0.0   \n",
       "2                     0.0             0.0               0.0   \n",
       "3                     0.0        296734.0               0.0   \n",
       "4                     0.0             0.0               0.0   \n",
       "\n",
       "   other_long_term_liabilities  minority_interest  total_shareholders_equity  \\\n",
       "0                          0.0                0.0                 10072754.0   \n",
       "1                     957137.0                0.0                  6795091.0   \n",
       "2                     947137.0                0.0                  7237447.0   \n",
       "3                     909137.0                0.0                  6834342.0   \n",
       "4                      52000.0                0.0                 23208000.0   \n",
       "\n",
       "   retained_earnings  industry_code_id  \n",
       "0                0.0             573.0  \n",
       "1                0.0             796.0  \n",
       "2                0.0             796.0  \n",
       "3                0.0             796.0  \n",
       "4                0.0             573.0  \n",
       "\n",
       "[5 rows x 32 columns]"
      ]
     },
     "execution_count": 29,
     "metadata": {},
     "output_type": "execute_result"
    }
   ],
   "source": [
    "df.head()"
   ]
  },
  {
   "cell_type": "code",
   "execution_count": 30,
   "metadata": {},
   "outputs": [
    {
     "name": "stdout",
     "output_type": "stream",
     "text": [
      "<class 'pandas.core.frame.DataFrame'>\n",
      "RangeIndex: 6040 entries, 0 to 6039\n",
      "Data columns (total 32 columns):\n",
      "h_score                                       6040 non-null float64\n",
      "sales                                         6040 non-null float64\n",
      "cost_of_sales                                 6040 non-null float64\n",
      "operating_profit                              6040 non-null float64\n",
      "exceptional_items                             6016 non-null float64\n",
      "interest_income_and_other                     6040 non-null float64\n",
      "interest_expense                              6040 non-null float64\n",
      "tax                                           6040 non-null float64\n",
      "other_post_tax                                6040 non-null float64\n",
      "dividends                                     6040 non-null float64\n",
      "depreciation                                  6040 non-null float64\n",
      "amortisation_and_impairment_of_intangibles    6040 non-null float64\n",
      "cash_and_equivalents                          6040 non-null float64\n",
      "short_term_investments                        6040 non-null float64\n",
      "accounts_receivable                           6040 non-null float64\n",
      "other_current_receivables                     6040 non-null float64\n",
      "group_balances_receivable                     6040 non-null float64\n",
      "inventory                                     6040 non-null float64\n",
      "intangible_assets                             6040 non-null float64\n",
      "fixed_assets                                  6040 non-null float64\n",
      "other_non_current_assets                      6040 non-null float64\n",
      "short_term_debt                               6040 non-null float64\n",
      "accounts_payable                              6040 non-null float64\n",
      "other_current_liabilities                     6040 non-null float64\n",
      "group_balances_payable                        6040 non-null float64\n",
      "long_term_debt                                6040 non-null float64\n",
      "long_liabilities                              6040 non-null float64\n",
      "other_long_term_liabilities                   6040 non-null float64\n",
      "minority_interest                             6040 non-null float64\n",
      "total_shareholders_equity                     6040 non-null float64\n",
      "retained_earnings                             6040 non-null float64\n",
      "industry_code_id                              5424 non-null float64\n",
      "dtypes: float64(32)\n",
      "memory usage: 1.5 MB\n"
     ]
    }
   ],
   "source": [
    "df.info()"
   ]
  },
  {
   "cell_type": "markdown",
   "metadata": {},
   "source": [
    "sb.distplot(df['h_score'])"
   ]
  },
  {
   "cell_type": "markdown",
   "metadata": {},
   "source": [
    "names = list(df.columns)\n",
    "names.remove('h_score')\n",
    "\n",
    "for name in names:\n",
    "    plt.figure()\n",
    "    sb.regplot(y=\"h_score\", x=name, data=df)"
   ]
  },
  {
   "cell_type": "markdown",
   "metadata": {},
   "source": [
    "corr = df.corr()\n",
    "plt.figure(figsize=(15, 12))\n",
    "sb.heatmap(corr, xticklabels=corr.columns, yticklabels=corr.columns, annot=True)"
   ]
  },
  {
   "cell_type": "code",
   "execution_count": 31,
   "metadata": {},
   "outputs": [
    {
     "data": {
      "text/plain": [
       "h_score                                         0\n",
       "sales                                           0\n",
       "cost_of_sales                                   0\n",
       "operating_profit                                0\n",
       "exceptional_items                              24\n",
       "interest_income_and_other                       0\n",
       "interest_expense                                0\n",
       "tax                                             0\n",
       "other_post_tax                                  0\n",
       "dividends                                       0\n",
       "depreciation                                    0\n",
       "amortisation_and_impairment_of_intangibles      0\n",
       "cash_and_equivalents                            0\n",
       "short_term_investments                          0\n",
       "accounts_receivable                             0\n",
       "other_current_receivables                       0\n",
       "group_balances_receivable                       0\n",
       "inventory                                       0\n",
       "intangible_assets                               0\n",
       "fixed_assets                                    0\n",
       "other_non_current_assets                        0\n",
       "short_term_debt                                 0\n",
       "accounts_payable                                0\n",
       "other_current_liabilities                       0\n",
       "group_balances_payable                          0\n",
       "long_term_debt                                  0\n",
       "long_liabilities                                0\n",
       "other_long_term_liabilities                     0\n",
       "minority_interest                               0\n",
       "total_shareholders_equity                       0\n",
       "retained_earnings                               0\n",
       "industry_code_id                              616\n",
       "dtype: int64"
      ]
     },
     "execution_count": 31,
     "metadata": {},
     "output_type": "execute_result"
    }
   ],
   "source": [
    "df.isnull().sum()"
   ]
  },
  {
   "cell_type": "code",
   "execution_count": 32,
   "metadata": {},
   "outputs": [],
   "source": [
    "df = df.loc[~df['exceptional_items'].isnull()]"
   ]
  },
  {
   "cell_type": "code",
   "execution_count": 33,
   "metadata": {},
   "outputs": [],
   "source": [
    "df['industry_code_id'].fillna(int(random.random()*1000), inplace=True)"
   ]
  },
  {
   "cell_type": "code",
   "execution_count": 34,
   "metadata": {
    "scrolled": false
   },
   "outputs": [
    {
     "data": {
      "text/plain": [
       "h_score                                       0\n",
       "sales                                         0\n",
       "cost_of_sales                                 0\n",
       "operating_profit                              0\n",
       "exceptional_items                             0\n",
       "interest_income_and_other                     0\n",
       "interest_expense                              0\n",
       "tax                                           0\n",
       "other_post_tax                                0\n",
       "dividends                                     0\n",
       "depreciation                                  0\n",
       "amortisation_and_impairment_of_intangibles    0\n",
       "cash_and_equivalents                          0\n",
       "short_term_investments                        0\n",
       "accounts_receivable                           0\n",
       "other_current_receivables                     0\n",
       "group_balances_receivable                     0\n",
       "inventory                                     0\n",
       "intangible_assets                             0\n",
       "fixed_assets                                  0\n",
       "other_non_current_assets                      0\n",
       "short_term_debt                               0\n",
       "accounts_payable                              0\n",
       "other_current_liabilities                     0\n",
       "group_balances_payable                        0\n",
       "long_term_debt                                0\n",
       "long_liabilities                              0\n",
       "other_long_term_liabilities                   0\n",
       "minority_interest                             0\n",
       "total_shareholders_equity                     0\n",
       "retained_earnings                             0\n",
       "industry_code_id                              0\n",
       "dtype: int64"
      ]
     },
     "execution_count": 34,
     "metadata": {},
     "output_type": "execute_result"
    }
   ],
   "source": [
    "df.isnull().sum()"
   ]
  },
  {
   "cell_type": "code",
   "execution_count": 35,
   "metadata": {},
   "outputs": [],
   "source": [
    "y = df['h_score']\n",
    "df.drop('h_score', axis=1, inplace=True)\n",
    "X = df"
   ]
  },
  {
   "cell_type": "markdown",
   "metadata": {},
   "source": [
    "### XGB"
   ]
  },
  {
   "cell_type": "code",
   "execution_count": 38,
   "metadata": {},
   "outputs": [
    {
     "name": "stdout",
     "output_type": "stream",
     "text": [
      "XGB accuracy: -118.14 (+/- 39.93)\n"
     ]
    }
   ],
   "source": [
    "xgb = XGBRegressor(n_jobs = cores, n_estimators = 1000)\n",
    "xgb_scores = cross_val_score(xgb, X, y, cv=10, scoring='neg_mean_squared_error')\n",
    "print(\"XGB accuracy: %0.2f (+/- %0.2f)\" % (xgb_scores.mean(), xgb_scores.std() * 2))"
   ]
  },
  {
   "cell_type": "markdown",
   "metadata": {},
   "source": [
    "### XGB polynomial"
   ]
  },
  {
   "cell_type": "markdown",
   "metadata": {},
   "source": [
    "Additional research of polinomials shown that industry_code_id is important secondary feature. Lets make few combinations of it with highly important first level features"
   ]
  },
  {
   "cell_type": "raw",
   "metadata": {},
   "source": [
    "X['industry_code_id*total_shareholders_equity'] = X['industry_code_id']*X['total_shareholders_equity']\n",
    "X['industry_code_id*other_current_liabilities'] = X['industry_code_id']*X['other_current_liabilities']\n",
    "X['industry_code_id*operating_profit'] = X['industry_code_id']*X['operating_profit']"
   ]
  },
  {
   "cell_type": "raw",
   "metadata": {},
   "source": [
    "xgb_poly = XGBRegressor(n_jobs = cores, n_estimators = 1000)\n",
    "xgb_poly_scores = cross_val_score(xgb_poly, X, y, cv=10, scoring='neg_mean_squared_error')\n",
    "print(\"XGB polynomial accuracy: %0.2f (+/- %0.2f)\" % (xgb_poly_scores.mean(), xgb_poly_scores.std() * 2))"
   ]
  },
  {
   "cell_type": "markdown",
   "metadata": {},
   "source": [
    "=> XGB polynomial accuracy: -120.75 (+/- 43.13)"
   ]
  },
  {
   "cell_type": "markdown",
   "metadata": {},
   "source": [
    "### XGB with RFE"
   ]
  },
  {
   "cell_type": "code",
   "execution_count": 39,
   "metadata": {},
   "outputs": [],
   "source": [
    "xgb_rfe = XGBRegressor(n_jobs = cores, n_estimators = 1000)"
   ]
  },
  {
   "cell_type": "code",
   "execution_count": 40,
   "metadata": {
    "scrolled": false
   },
   "outputs": [
    {
     "name": "stdout",
     "output_type": "stream",
     "text": [
      "XGB with RFE accuracy: -117.48 (+/- 39.76)\n"
     ]
    }
   ],
   "source": [
    "selector = RFE(xgb_rfe, n_features_to_select=18, step=1)\n",
    "xgb_rfe_scores = cross_val_score(selector, X, y, cv=10, scoring='neg_mean_squared_error')\n",
    "print(\"XGB with RFE accuracy: %0.2f (+/- %0.2f)\" % (xgb_rfe_scores.mean(), xgb_rfe_scores.std() * 2))"
   ]
  },
  {
   "cell_type": "markdown",
   "metadata": {},
   "source": [
    "So with 18 features from 31 we have same quality. Lets remove all unnecessary features from data set by using final version of XGB with applied RFE."
   ]
  },
  {
   "cell_type": "code",
   "execution_count": 43,
   "metadata": {
    "scrolled": true
   },
   "outputs": [
    {
     "data": {
      "text/plain": [
       "RFE(estimator=XGBRegressor(base_score=0.5, booster='gbtree', colsample_bylevel=1,\n",
       "       colsample_bytree=1, gamma=0, learning_rate=0.1, max_delta_step=0,\n",
       "       max_depth=3, min_child_weight=1, missing=None, n_estimators=1000,\n",
       "       n_jobs=9, nthread=None, objective='reg:linear', random_state=0,\n",
       "       reg_alpha=0, reg_lambda=1, scale_pos_weight=1, seed=None,\n",
       "       silent=True, subsample=1),\n",
       "  n_features_to_select=18, step=1, verbose=0)"
      ]
     },
     "execution_count": 43,
     "metadata": {},
     "output_type": "execute_result"
    }
   ],
   "source": [
    "selector.fit(X, y)"
   ]
  },
  {
   "cell_type": "code",
   "execution_count": 44,
   "metadata": {},
   "outputs": [],
   "source": [
    "fileObject = open(\"big_model\", 'wb')\n",
    "pickle.dump(selector, fileObject)\n",
    "fileObject.close()"
   ]
  },
  {
   "cell_type": "code",
   "execution_count": 48,
   "metadata": {},
   "outputs": [
    {
     "data": {
      "text/html": [
       "<div>\n",
       "<style scoped>\n",
       "    .dataframe tbody tr th:only-of-type {\n",
       "        vertical-align: middle;\n",
       "    }\n",
       "\n",
       "    .dataframe tbody tr th {\n",
       "        vertical-align: top;\n",
       "    }\n",
       "\n",
       "    .dataframe thead th {\n",
       "        text-align: right;\n",
       "    }\n",
       "</style>\n",
       "<table border=\"1\" class=\"dataframe\">\n",
       "  <thead>\n",
       "    <tr style=\"text-align: right;\">\n",
       "      <th></th>\n",
       "      <th>companywatch</th>\n",
       "      <th>ml-score</th>\n",
       "    </tr>\n",
       "  </thead>\n",
       "  <tbody>\n",
       "    <tr>\n",
       "      <th>0</th>\n",
       "      <td>30.0</td>\n",
       "      <td>24.782354</td>\n",
       "    </tr>\n",
       "    <tr>\n",
       "      <th>1</th>\n",
       "      <td>77.0</td>\n",
       "      <td>79.032509</td>\n",
       "    </tr>\n",
       "    <tr>\n",
       "      <th>2</th>\n",
       "      <td>74.0</td>\n",
       "      <td>75.001007</td>\n",
       "    </tr>\n",
       "    <tr>\n",
       "      <th>3</th>\n",
       "      <td>74.0</td>\n",
       "      <td>77.165871</td>\n",
       "    </tr>\n",
       "    <tr>\n",
       "      <th>4</th>\n",
       "      <td>90.0</td>\n",
       "      <td>84.362801</td>\n",
       "    </tr>\n",
       "  </tbody>\n",
       "</table>\n",
       "</div>"
      ],
      "text/plain": [
       "   companywatch   ml-score\n",
       "0          30.0  24.782354\n",
       "1          77.0  79.032509\n",
       "2          74.0  75.001007\n",
       "3          74.0  77.165871\n",
       "4          90.0  84.362801"
      ]
     },
     "execution_count": 48,
     "metadata": {},
     "output_type": "execute_result"
    }
   ],
   "source": [
    "xgb = selector.predict(X)\n",
    "compare = pd.DataFrame({'companywatch':y, 'ml-score':xgb})\n",
    "compare.head()"
   ]
  },
  {
   "cell_type": "code",
   "execution_count": null,
   "metadata": {},
   "outputs": [],
   "source": []
  }
 ],
 "metadata": {
  "kernelspec": {
   "display_name": "Python 3",
   "language": "python",
   "name": "python3"
  },
  "language_info": {
   "codemirror_mode": {
    "name": "ipython",
    "version": 3
   },
   "file_extension": ".py",
   "mimetype": "text/x-python",
   "name": "python",
   "nbconvert_exporter": "python",
   "pygments_lexer": "ipython3",
   "version": "3.6.3"
  }
 },
 "nbformat": 4,
 "nbformat_minor": 2
}
